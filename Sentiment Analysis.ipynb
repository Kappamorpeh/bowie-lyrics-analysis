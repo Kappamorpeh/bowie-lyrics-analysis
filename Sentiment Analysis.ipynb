{
 "cells": [
  {
   "cell_type": "code",
   "execution_count": 1,
   "id": "dd65ec42-5631-4a48-a8e7-3670aff4c991",
   "metadata": {},
   "outputs": [],
   "source": [
    "import pandas as pd\n",
    "import nltk\n",
    "from nltk.sentiment import SentimentIntensityAnalyzer"
   ]
  },
  {
   "cell_type": "code",
   "execution_count": 2,
   "id": "0257c372-aed2-491c-a3b2-f19cee9c1c9b",
   "metadata": {},
   "outputs": [],
   "source": [
    "bowie_data = pd.read_csv('bowie_cleaned_data.csv')"
   ]
  },
  {
   "cell_type": "code",
   "execution_count": 3,
   "id": "35a1c068-898c-4b3a-8cde-dae18e7a2e8c",
   "metadata": {},
   "outputs": [],
   "source": [
    "sia = SentimentIntensityAnalyzer()\n",
    "analysis = bowie_data['Song_Lyrics'].apply(lambda x: sia.polarity_scores(x)).apply(pd.Series)\n",
    "analysis.columns = ['Negative', 'Neutral', 'Positive', 'Compound']\n",
    "bowie_data = pd.concat([bowie_data, analysis], axis=1)\n",
    "bowie_data.reset_index(drop=True, inplace=True)"
   ]
  },
  {
   "cell_type": "code",
   "execution_count": 5,
   "id": "d74c12f3-4ea2-4a40-8bf8-719b981c0817",
   "metadata": {},
   "outputs": [],
   "source": [
    "filename = 'bowie_cleaned_data.csv'\n",
    "bowie_data.to_csv(filename, index=False)"
   ]
  }
 ],
 "metadata": {
  "kernelspec": {
   "display_name": "Python 3 (ipykernel)",
   "language": "python",
   "name": "python3"
  },
  "language_info": {
   "codemirror_mode": {
    "name": "ipython",
    "version": 3
   },
   "file_extension": ".py",
   "mimetype": "text/x-python",
   "name": "python",
   "nbconvert_exporter": "python",
   "pygments_lexer": "ipython3",
   "version": "3.11.7"
  }
 },
 "nbformat": 4,
 "nbformat_minor": 5
}
