{
 "cells": [
  {
   "cell_type": "code",
   "execution_count": null,
   "id": "82dabc9f-e02a-4295-a8ef-25e475b34bb8",
   "metadata": {},
   "outputs": [],
   "source": [
    "albums = ['David Bowie (1967)', \n",
    "          'David Bowie (a.k.a. Space Oddity) (1969)', \n",
    "          'The Man Who Sold the World (1970)',\n",
    "          'Hunky Dory (1971)',\n",
    "          'The Rise and Fall of Ziggy Stardust and the Spiders from Mars (1972)',\n",
    "          'Aladdin Sane (1973)',\n",
    "          'Pin Ups (1973)',\n",
    "          'Diamond Dogs (1974)',\n",
    "          'Young Americans (1975)',\n",
    "          'Station to Station (1976)',\n",
    "          'Low (1977)',\n",
    "          '“Heroes” (1977)',\n",
    "          'Lodger (1979)',\n",
    "          'Scary Monsters (and Super Creeps) (1980)',\n",
    "          \"Let’s Dance (1983)\",\n",
    "          'Tonight (1984)',\n",
    "          'Never Let Me Down (1987)',\n",
    "          'Black Tie White Noise (1993)',\n",
    "          'The Buddha of Suburbia (1993)',\n",
    "          '1. Outside (1995)',\n",
    "          'Earthling (1997)',\n",
    "          '‘hours...’ (1999)',\n",
    "          'Heathen (2002)',\n",
    "          'Reality (2003)',\n",
    "          'The Next Day (2013)',\n",
    "          '★ (Blackstar) (2016)']"
   ]
  },
  {
   "cell_type": "code",
   "execution_count": null,
   "id": "14b8ba19-381d-4382-9ec6-325419c031be",
   "metadata": {},
   "outputs": [],
   "source": [
    "import requests\n",
    "from bs4 import BeautifulSoup\n",
    "from selenium import webdriver\n",
    "from selenium.webdriver.common.by import By\n",
    "from selenium.webdriver.support.ui import WebDriverWait\n",
    "from selenium.webdriver.support import expected_conditions as EC\n",
    "from selenium.webdriver.common.keys import Keys\n",
    "import time\n",
    "import re\n",
    "import lyricsgenius\n",
    "import json"
   ]
  },
  {
   "cell_type": "code",
   "execution_count": null,
   "id": "f9cec068-d2c1-4f5d-9947-fc29cf4fbe48",
   "metadata": {},
   "outputs": [],
   "source": [
    "key = 'AhSIl1-8gPr2DZk9epSuJT03xn-ti9Sbv84EeThoHsQPELBOkqlKRmOca2BWs0TF'"
   ]
  },
  {
   "cell_type": "code",
   "execution_count": null,
   "id": "c2a6b681-37e7-40f3-96db-5bb895c9fbf0",
   "metadata": {},
   "outputs": [],
   "source": [
    "driver = webdriver.Chrome()\n",
    "url = 'https://genius.com/artists/David-bowie/albums'\n",
    "driver.get(url)\n",
    "\n",
    "scroll_amount = 1000\n",
    "target_article_xpath = '//*[@id=\"application\"]/main/div[1]/div/div[3]/div[3]/div/div[2]/ul/li[127]/a/div[2]/h3'\n",
    "while True:\n",
    "    try:\n",
    "        target_article = WebDriverWait(driver, 5).until(\n",
    "            EC.presence_of_element_located((By.XPATH, target_article_xpath))\n",
    "        )\n",
    "        print(\"Target article found!\")\n",
    "        break  # Break the loop if the target article is found\n",
    "    except:\n",
    "        # If the target article is not found within the timeout, scroll down and retry\n",
    "        print(\"Target article not found. Scrolling down and retrying...\")\n",
    "        driver.execute_script(f\"window.scrollTo(0, {scroll_amount});\")\n",
    "        scroll_amount+=1300\n",
    "driver.execute_script(f\"window.scrollTo(0, 0);\")\n",
    "search_album = driver.find_elements(By.TAG_NAME, \"li\")"
   ]
  },
  {
   "cell_type": "code",
   "execution_count": null,
   "id": "7a0f570c-e358-41a2-954e-9018e584ac5d",
   "metadata": {},
   "outputs": [],
   "source": [
    "matched_albums = []\n",
    "pattern = re.compile(r'(.+)\\n.*(\\d{4})')\n",
    "for el in search_album: \n",
    "    matches = pattern.finditer(el.text)\n",
    "    for match in matches:\n",
    "        album_name = match.group(1)\n",
    "        album_year = match.group(2)\n",
    "        result = f'{album_name} ({album_year})'\n",
    "        for album in albums:\n",
    "            if(result==album):\n",
    "                matched_albums.append(el)"
   ]
  },
  {
   "cell_type": "code",
   "execution_count": null,
   "id": "26bb3e84-9c8b-477d-ad0c-8aa425a66bfa",
   "metadata": {},
   "outputs": [],
   "source": [
    "genius = lyricsgenius.Genius(key)"
   ]
  },
  {
   "cell_type": "code",
   "execution_count": null,
   "id": "da64142c-063d-4e26-936a-571e86a1b9df",
   "metadata": {},
   "outputs": [],
   "source": [
    "bowie_data = []\n",
    "for matched_album in matched_albums:\n",
    "    title_element = matched_album.find_element(By.TAG_NAME, 'a')\n",
    "    album_name = matched_album.text.split('\\n',1)[0]\n",
    "    album_date = matched_album.text.split('\\n',1)[1].split(' ')[-1]\n",
    "    \n",
    "    \n",
    "    title_element.send_keys(Keys.CONTROL + Keys.RETURN)\n",
    "    driver.switch_to.window(driver.window_handles[-1])\n",
    "    \n",
    "    time.sleep(5)\n",
    "\n",
    "    search_songs = driver.find_elements(By.TAG_NAME, 'album-tracklist-row')\n",
    "    songs = []\n",
    "    \n",
    "    for song in search_songs:\n",
    "        song_name = song.find_element(By.TAG_NAME, 'h3')\n",
    "        song_name = list(song_name.text.split(' '))[:-1]\n",
    "        song_name = ' '.join(song_name)\n",
    "        \n",
    "        song_lyrics = genius.search_song(song_name, 'David Bowie')\n",
    "        if(song_lyrics!=None):\n",
    "            song_lyrics=song_lyrics.lyrics\n",
    "        else:\n",
    "            song_lyrics=0\n",
    "        time.sleep(5)\n",
    "        \n",
    "        songs.append({\"Name\": song_name, \"Lyrics\": song_lyrics}) \n",
    "        \n",
    "    bowie_data.append({\n",
    "        \"Name\": album_name,\n",
    "        \"Year\": album_date,\n",
    "        \"Songs\": songs\n",
    "    })\n",
    "\n",
    "    driver.close()\n",
    "    driver.switch_to.window(driver.window_handles[0])\n",
    "driver.close()"
   ]
  },
  {
   "cell_type": "code",
   "execution_count": null,
   "id": "a5b3cf3a-f93e-4a5b-b74e-8b14c053f266",
   "metadata": {},
   "outputs": [],
   "source": [
    "filename = \"bowie_data.json\"\n",
    "\n",
    "with open(filename, 'w') as file:\n",
    "    json.dump(bowie_data, file, indent=4)\n",
    "\n",
    "print(f\"Data successfully saved to {filename}\")"
   ]
  }
 ],
 "metadata": {
  "kernelspec": {
   "display_name": "Python 3 (ipykernel)",
   "language": "python",
   "name": "python3"
  },
  "language_info": {
   "codemirror_mode": {
    "name": "ipython",
    "version": 3
   },
   "file_extension": ".py",
   "mimetype": "text/x-python",
   "name": "python",
   "nbconvert_exporter": "python",
   "pygments_lexer": "ipython3",
   "version": "3.11.7"
  }
 },
 "nbformat": 4,
 "nbformat_minor": 5
}
